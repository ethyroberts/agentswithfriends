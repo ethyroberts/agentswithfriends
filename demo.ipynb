{
 "cells": [
  {
   "cell_type": "markdown",
   "metadata": {},
   "source": [
    "# Agents: demonstrating learning to navigate an environment\n",
    "\n",
    "This notebook demonstrates a number of approaches to training and agent to act in an environment. Much of the code used here is generated with the help of my good friend Claude (`https://claude.ai/`).\n",
    "\n",
    "Let's investigate agents, affect, and coding with Claude!"
   ]
  },
  {
   "cell_type": "code",
   "execution_count": 1,
   "metadata": {},
   "outputs": [],
   "source": [
    "%matplotlib inline\n",
    "import matplotlib.pyplot as plt\n",
    "import numpy as np\n",
    "\n",
    "from active_inference_agent import ActiveInferenceAgent\n",
    "# from reinforcement_agent\n",
    "# from affect_agent\n",
    "\n",
    "from environ import Environment"
   ]
  },
  {
   "cell_type": "code",
   "execution_count": null,
   "metadata": {},
   "outputs": [],
   "source": []
  }
 ],
 "metadata": {
  "kernelspec": {
   "display_name": "pytorch",
   "language": "python",
   "name": "python3"
  },
  "language_info": {
   "codemirror_mode": {
    "name": "ipython",
    "version": 3
   },
   "file_extension": ".py",
   "mimetype": "text/x-python",
   "name": "python",
   "nbconvert_exporter": "python",
   "pygments_lexer": "ipython3",
   "version": "3.9.16"
  }
 },
 "nbformat": 4,
 "nbformat_minor": 2
}
